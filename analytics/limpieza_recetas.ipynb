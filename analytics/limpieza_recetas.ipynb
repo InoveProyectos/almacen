{
 "cells": [
  {
   "cell_type": "markdown",
   "metadata": {},
   "source": [
    "# Limpieza del archivo 'recetas.csv'"
   ]
  },
  {
   "cell_type": "markdown",
   "metadata": {},
   "source": [
    "## Importar librerías"
   ]
  },
  {
   "cell_type": "code",
   "execution_count": 186,
   "metadata": {},
   "outputs": [],
   "source": [
    "#importar las librerias necesarias\n",
    "import pandas as pd\n",
    "import numpy as np\n",
    "import platform\n",
    "import os"
   ]
  },
  {
   "cell_type": "markdown",
   "metadata": {},
   "source": [
    "## Extraer el archivo csv"
   ]
  },
  {
   "cell_type": "code",
   "execution_count": 187,
   "metadata": {},
   "outputs": [],
   "source": [
    "#Acceder al archivo recetas.csv\n",
    "if os.access('recetas.csv', os.F_OK) is False:\n",
    "    if platform.system() == 'Windows':\n",
    "        !curl https://raw.githubusercontent.com/InoveProyectos/almacen/refs/heads/main/docs/recetas.csv > recetas.csv\n",
    "    else:\n",
    "        !wget recetas.csv https://raw.githubusercontent.com/InoveProyectos/almacen/refs/heads/main/docs/recetas.csv"
   ]
  },
  {
   "cell_type": "markdown",
   "metadata": {},
   "source": [
    "## Explorar el archivo csv"
   ]
  },
  {
   "cell_type": "code",
   "execution_count": 188,
   "metadata": {},
   "outputs": [
    {
     "data": {
      "text/html": [
       "<div>\n",
       "<style scoped>\n",
       "    .dataframe tbody tr th:only-of-type {\n",
       "        vertical-align: middle;\n",
       "    }\n",
       "\n",
       "    .dataframe tbody tr th {\n",
       "        vertical-align: top;\n",
       "    }\n",
       "\n",
       "    .dataframe thead th {\n",
       "        text-align: right;\n",
       "    }\n",
       "</style>\n",
       "<table border=\"1\" class=\"dataframe\">\n",
       "  <thead>\n",
       "    <tr style=\"text-align: right;\">\n",
       "      <th></th>\n",
       "      <th>Nombre</th>\n",
       "      <th>Ingredientes</th>\n",
       "      <th>Categoria</th>\n",
       "    </tr>\n",
       "  </thead>\n",
       "  <tbody>\n",
       "    <tr>\n",
       "      <th>0</th>\n",
       "      <td>Tostadas con mermelada</td>\n",
       "      <td>Pan-Mermelada</td>\n",
       "      <td>Desayuno</td>\n",
       "    </tr>\n",
       "    <tr>\n",
       "      <th>1</th>\n",
       "      <td>Facturas de hojaldre</td>\n",
       "      <td>Harina-Manteca-Azucar</td>\n",
       "      <td>Desayuno</td>\n",
       "    </tr>\n",
       "    <tr>\n",
       "      <th>2</th>\n",
       "      <td>Tortilla de papas</td>\n",
       "      <td>Papas-Huevos-Cebolla</td>\n",
       "      <td>Almuerzo</td>\n",
       "    </tr>\n",
       "    <tr>\n",
       "      <th>3</th>\n",
       "      <td>Milanesa napolitana</td>\n",
       "      <td>Carne-Tomate-Queso</td>\n",
       "      <td>Almuerzo</td>\n",
       "    </tr>\n",
       "    <tr>\n",
       "      <th>4</th>\n",
       "      <td>Empanadas de carne</td>\n",
       "      <td>Carne picada-Cebolla-Masa</td>\n",
       "      <td>Almuerzo</td>\n",
       "    </tr>\n",
       "  </tbody>\n",
       "</table>\n",
       "</div>"
      ],
      "text/plain": [
       "                   Nombre               Ingredientes Categoria\n",
       "0  Tostadas con mermelada              Pan-Mermelada  Desayuno\n",
       "1    Facturas de hojaldre      Harina-Manteca-Azucar  Desayuno\n",
       "2       Tortilla de papas       Papas-Huevos-Cebolla  Almuerzo\n",
       "3     Milanesa napolitana         Carne-Tomate-Queso  Almuerzo\n",
       "4      Empanadas de carne  Carne picada-Cebolla-Masa  Almuerzo"
      ]
     },
     "execution_count": 188,
     "metadata": {},
     "output_type": "execute_result"
    }
   ],
   "source": [
    "#leer el archivo csv\n",
    "df = pd.read_csv('recetas.csv')\n",
    "df.head()"
   ]
  },
  {
   "cell_type": "code",
   "execution_count": 189,
   "metadata": {},
   "outputs": [
    {
     "data": {
      "text/plain": [
       "(232, 3)"
      ]
     },
     "execution_count": 189,
     "metadata": {},
     "output_type": "execute_result"
    }
   ],
   "source": [
    "#ver el tamaño del dataset\n",
    "df.shape"
   ]
  },
  {
   "cell_type": "code",
   "execution_count": 190,
   "metadata": {},
   "outputs": [
    {
     "data": {
      "text/plain": [
       "Nombre          0\n",
       "Ingredientes    0\n",
       "Categoria       0\n",
       "dtype: int64"
      ]
     },
     "execution_count": 190,
     "metadata": {},
     "output_type": "execute_result"
    }
   ],
   "source": [
    "#verificar que no tenga ningun dato nulo\n",
    "df.isna().sum()"
   ]
  },
  {
   "cell_type": "code",
   "execution_count": 191,
   "metadata": {},
   "outputs": [
    {
     "data": {
      "text/plain": [
       "True"
      ]
     },
     "execution_count": 191,
     "metadata": {},
     "output_type": "execute_result"
    }
   ],
   "source": [
    "#verificar que que no hayan recetas repetidas\n",
    "df['Nombre'].is_unique"
   ]
  },
  {
   "cell_type": "markdown",
   "metadata": {},
   "source": [
    "## Transformar el dataframe con el fin de ver todos los ingredientes"
   ]
  },
  {
   "cell_type": "code",
   "execution_count": 192,
   "metadata": {},
   "outputs": [],
   "source": [
    "#hacer una copia del dataframe original\n",
    "df2 = df.copy()\n",
    "#convertir los valores de la columna Ingredientes a una lista para luego poder transformarlos \n",
    "df2['Ingredientes']=df2['Ingredientes'].str.split(\"-\")"
   ]
  },
  {
   "cell_type": "code",
   "execution_count": 193,
   "metadata": {},
   "outputs": [],
   "source": [
    "#crear otra copia del dataset transformado\n",
    "df_columns = df2.copy()\n",
    "\n",
    "#importar función MultiLabelBinarizer para hacer un one hot encoder a los valores de la columna 'Ingredientes'\n",
    "from sklearn.preprocessing import MultiLabelBinarizer\n",
    "\n",
    "mlb = MultiLabelBinarizer()\n",
    "ingredientes_matrix = mlb.fit_transform(df_columns[\"Ingredientes\"])\n",
    "\n",
    "#crear un dataFrame para mostrar los valores ya transformados en sus respectivas columnas \n",
    "ingredientes_df = pd.DataFrame(ingredientes_matrix, columns=mlb.classes_)\n",
    "#agreagar las columnas faltantes"
   ]
  },
  {
   "cell_type": "code",
   "execution_count": 194,
   "metadata": {},
   "outputs": [
    {
     "data": {
      "text/html": [
       "<div>\n",
       "<style scoped>\n",
       "    .dataframe tbody tr th:only-of-type {\n",
       "        vertical-align: middle;\n",
       "    }\n",
       "\n",
       "    .dataframe tbody tr th {\n",
       "        vertical-align: top;\n",
       "    }\n",
       "\n",
       "    .dataframe thead th {\n",
       "        text-align: right;\n",
       "    }\n",
       "</style>\n",
       "<table border=\"1\" class=\"dataframe\">\n",
       "  <thead>\n",
       "    <tr style=\"text-align: right;\">\n",
       "      <th></th>\n",
       "      <th>Aceite</th>\n",
       "      <th>Aceite de oliva</th>\n",
       "      <th>Aceitunas</th>\n",
       "      <th>Aderezo</th>\n",
       "      <th>Agua</th>\n",
       "      <th>Ajo</th>\n",
       "      <th>Albahaca</th>\n",
       "      <th>Albondigas</th>\n",
       "      <th>Algas</th>\n",
       "      <th>Almendras</th>\n",
       "      <th>...</th>\n",
       "      <th>Vainillas</th>\n",
       "      <th>Variedad de quesos</th>\n",
       "      <th>Verduras</th>\n",
       "      <th>Verduras variadas</th>\n",
       "      <th>Vino blanco</th>\n",
       "      <th>Vino tinto</th>\n",
       "      <th>Yogur</th>\n",
       "      <th>Zanahoria</th>\n",
       "      <th>Zapallitos</th>\n",
       "      <th>Zapallo</th>\n",
       "    </tr>\n",
       "  </thead>\n",
       "  <tbody>\n",
       "    <tr>\n",
       "      <th>0</th>\n",
       "      <td>0</td>\n",
       "      <td>0</td>\n",
       "      <td>0</td>\n",
       "      <td>0</td>\n",
       "      <td>0</td>\n",
       "      <td>0</td>\n",
       "      <td>0</td>\n",
       "      <td>0</td>\n",
       "      <td>0</td>\n",
       "      <td>0</td>\n",
       "      <td>...</td>\n",
       "      <td>0</td>\n",
       "      <td>0</td>\n",
       "      <td>0</td>\n",
       "      <td>0</td>\n",
       "      <td>0</td>\n",
       "      <td>0</td>\n",
       "      <td>0</td>\n",
       "      <td>0</td>\n",
       "      <td>0</td>\n",
       "      <td>0</td>\n",
       "    </tr>\n",
       "    <tr>\n",
       "      <th>1</th>\n",
       "      <td>0</td>\n",
       "      <td>0</td>\n",
       "      <td>0</td>\n",
       "      <td>0</td>\n",
       "      <td>0</td>\n",
       "      <td>0</td>\n",
       "      <td>0</td>\n",
       "      <td>0</td>\n",
       "      <td>0</td>\n",
       "      <td>0</td>\n",
       "      <td>...</td>\n",
       "      <td>0</td>\n",
       "      <td>0</td>\n",
       "      <td>0</td>\n",
       "      <td>0</td>\n",
       "      <td>0</td>\n",
       "      <td>0</td>\n",
       "      <td>0</td>\n",
       "      <td>0</td>\n",
       "      <td>0</td>\n",
       "      <td>0</td>\n",
       "    </tr>\n",
       "    <tr>\n",
       "      <th>2</th>\n",
       "      <td>0</td>\n",
       "      <td>0</td>\n",
       "      <td>0</td>\n",
       "      <td>0</td>\n",
       "      <td>0</td>\n",
       "      <td>0</td>\n",
       "      <td>0</td>\n",
       "      <td>0</td>\n",
       "      <td>0</td>\n",
       "      <td>0</td>\n",
       "      <td>...</td>\n",
       "      <td>0</td>\n",
       "      <td>0</td>\n",
       "      <td>0</td>\n",
       "      <td>0</td>\n",
       "      <td>0</td>\n",
       "      <td>0</td>\n",
       "      <td>0</td>\n",
       "      <td>0</td>\n",
       "      <td>0</td>\n",
       "      <td>0</td>\n",
       "    </tr>\n",
       "    <tr>\n",
       "      <th>3</th>\n",
       "      <td>0</td>\n",
       "      <td>0</td>\n",
       "      <td>0</td>\n",
       "      <td>0</td>\n",
       "      <td>0</td>\n",
       "      <td>0</td>\n",
       "      <td>0</td>\n",
       "      <td>0</td>\n",
       "      <td>0</td>\n",
       "      <td>0</td>\n",
       "      <td>...</td>\n",
       "      <td>0</td>\n",
       "      <td>0</td>\n",
       "      <td>0</td>\n",
       "      <td>0</td>\n",
       "      <td>0</td>\n",
       "      <td>0</td>\n",
       "      <td>0</td>\n",
       "      <td>0</td>\n",
       "      <td>0</td>\n",
       "      <td>0</td>\n",
       "    </tr>\n",
       "    <tr>\n",
       "      <th>4</th>\n",
       "      <td>0</td>\n",
       "      <td>0</td>\n",
       "      <td>0</td>\n",
       "      <td>0</td>\n",
       "      <td>0</td>\n",
       "      <td>0</td>\n",
       "      <td>0</td>\n",
       "      <td>0</td>\n",
       "      <td>0</td>\n",
       "      <td>0</td>\n",
       "      <td>...</td>\n",
       "      <td>0</td>\n",
       "      <td>0</td>\n",
       "      <td>0</td>\n",
       "      <td>0</td>\n",
       "      <td>0</td>\n",
       "      <td>0</td>\n",
       "      <td>0</td>\n",
       "      <td>0</td>\n",
       "      <td>0</td>\n",
       "      <td>0</td>\n",
       "    </tr>\n",
       "  </tbody>\n",
       "</table>\n",
       "<p>5 rows × 156 columns</p>\n",
       "</div>"
      ],
      "text/plain": [
       "   Aceite  Aceite de oliva  Aceitunas  Aderezo  Agua  Ajo  Albahaca  \\\n",
       "0       0                0          0        0     0    0         0   \n",
       "1       0                0          0        0     0    0         0   \n",
       "2       0                0          0        0     0    0         0   \n",
       "3       0                0          0        0     0    0         0   \n",
       "4       0                0          0        0     0    0         0   \n",
       "\n",
       "   Albondigas  Algas  Almendras  ...  Vainillas  Variedad de quesos  Verduras  \\\n",
       "0           0      0          0  ...          0                   0         0   \n",
       "1           0      0          0  ...          0                   0         0   \n",
       "2           0      0          0  ...          0                   0         0   \n",
       "3           0      0          0  ...          0                   0         0   \n",
       "4           0      0          0  ...          0                   0         0   \n",
       "\n",
       "   Verduras variadas  Vino blanco  Vino tinto  Yogur  Zanahoria  Zapallitos  \\\n",
       "0                  0            0           0      0          0           0   \n",
       "1                  0            0           0      0          0           0   \n",
       "2                  0            0           0      0          0           0   \n",
       "3                  0            0           0      0          0           0   \n",
       "4                  0            0           0      0          0           0   \n",
       "\n",
       "   Zapallo  \n",
       "0        0  \n",
       "1        0  \n",
       "2        0  \n",
       "3        0  \n",
       "4        0  \n",
       "\n",
       "[5 rows x 156 columns]"
      ]
     },
     "execution_count": 194,
     "metadata": {},
     "output_type": "execute_result"
    }
   ],
   "source": [
    "ingredientes_df.head()"
   ]
  },
  {
   "cell_type": "code",
   "execution_count": 195,
   "metadata": {},
   "outputs": [
    {
     "data": {
      "text/plain": [
       "['Aceite',\n",
       " 'Aceite de oliva',\n",
       " 'Aceitunas',\n",
       " 'Aderezo',\n",
       " 'Agua',\n",
       " 'Ajo',\n",
       " 'Albahaca',\n",
       " 'Albondigas',\n",
       " 'Algas',\n",
       " 'Almendras',\n",
       " 'Anana',\n",
       " 'Anchoas',\n",
       " 'Apio',\n",
       " 'Arroz',\n",
       " 'Arvejas',\n",
       " 'Atun',\n",
       " 'Azafran',\n",
       " 'Azucar',\n",
       " 'Bananas',\n",
       " 'Batata',\n",
       " 'Berenjenas',\n",
       " 'Cacao',\n",
       " 'Cafe',\n",
       " 'Calabaza',\n",
       " 'Calamares',\n",
       " 'Caldo',\n",
       " 'Caldo de pescado',\n",
       " 'Canela',\n",
       " 'Caramelo',\n",
       " 'Carne']"
      ]
     },
     "execution_count": 195,
     "metadata": {},
     "output_type": "execute_result"
    }
   ],
   "source": [
    "#con el nuevo dataset se crea una lista de los valores de las columnas \n",
    "# y asi poder ver los valores de todos los posibles ingredientes\n",
    "columnas = ingredientes_df.columns.values\n",
    "lista_columnas = list(columnas)\n",
    "lista_columnas[0:30]"
   ]
  },
  {
   "cell_type": "code",
   "execution_count": 196,
   "metadata": {},
   "outputs": [
    {
     "data": {
      "text/plain": [
       "['Carne picada',\n",
       " 'Carne vacuna',\n",
       " 'Cebolla',\n",
       " 'Cebolla de verdeo',\n",
       " 'Cerdo',\n",
       " 'Cerezas',\n",
       " 'Champignones',\n",
       " 'Champiñones',\n",
       " 'Chimichurri',\n",
       " 'Choclo',\n",
       " 'Chocolate',\n",
       " 'Chorizo',\n",
       " 'Ciruelas',\n",
       " 'Coco',\n",
       " 'Coco rallado',\n",
       " 'Condimentos',\n",
       " 'Conejo',\n",
       " 'Cordero',\n",
       " 'Crema',\n",
       " 'Crema de leche',\n",
       " 'Croutones',\n",
       " 'Dulce',\n",
       " 'Dulce de batata',\n",
       " 'Dulce de leche',\n",
       " 'Dulce de membrillo',\n",
       " 'Embutidos',\n",
       " 'Especias',\n",
       " 'Espinaca',\n",
       " 'Fideos',\n",
       " 'Frutas confitadas']"
      ]
     },
     "execution_count": 196,
     "metadata": {},
     "output_type": "execute_result"
    }
   ],
   "source": [
    "lista_columnas[30:60]"
   ]
  },
  {
   "cell_type": "code",
   "execution_count": 197,
   "metadata": {},
   "outputs": [
    {
     "data": {
      "text/plain": [
       "['Frutas secas',\n",
       " 'Frutas variadas',\n",
       " 'Frutillas',\n",
       " 'Garbanzos',\n",
       " 'Gelatina',\n",
       " 'Grasa',\n",
       " 'Habas',\n",
       " 'Harina',\n",
       " 'Harina de garbanzos',\n",
       " 'Harina de maiz',\n",
       " 'Harina integral',\n",
       " 'Hierbas',\n",
       " 'Hongos',\n",
       " 'Huevo duro',\n",
       " 'Huevos',\n",
       " 'Huevos fritos',\n",
       " 'Jamon',\n",
       " 'Jugo de naranja',\n",
       " 'Leche',\n",
       " 'Leche condensada',\n",
       " 'Lechuga',\n",
       " 'Legumbres',\n",
       " 'Lentejas',\n",
       " 'Levadura',\n",
       " 'Limon',\n",
       " 'Limones',\n",
       " 'Manteca',\n",
       " 'Manzana',\n",
       " 'Manzanas',\n",
       " 'Mariscos']"
      ]
     },
     "execution_count": 197,
     "metadata": {},
     "output_type": "execute_result"
    }
   ],
   "source": [
    "lista_columnas[60:90]"
   ]
  },
  {
   "cell_type": "code",
   "execution_count": 198,
   "metadata": {},
   "outputs": [
    {
     "data": {
      "text/plain": [
       "['Masa',\n",
       " 'Mascarpone',\n",
       " 'Mayonesa',\n",
       " 'Mermelada',\n",
       " 'Miso',\n",
       " 'Mondongo',\n",
       " 'Morrones',\n",
       " 'Mostaza',\n",
       " 'Nueces',\n",
       " 'Oregano',\n",
       " 'Palmitos',\n",
       " 'Palta',\n",
       " 'Pan',\n",
       " 'Pan de miga',\n",
       " 'Pan rallado',\n",
       " 'Panceta',\n",
       " 'Papas',\n",
       " 'Papas fritas',\n",
       " 'Pasas',\n",
       " 'Pasas de uva',\n",
       " 'Pasta',\n",
       " 'Pepino',\n",
       " 'Peras',\n",
       " 'Pescado',\n",
       " 'Pimienta',\n",
       " 'Pollo',\n",
       " 'Porotos',\n",
       " 'Puerro',\n",
       " 'Queso',\n",
       " 'Queso azul']"
      ]
     },
     "execution_count": 198,
     "metadata": {},
     "output_type": "execute_result"
    }
   ],
   "source": [
    "lista_columnas[90:120]"
   ]
  },
  {
   "cell_type": "code",
   "execution_count": 199,
   "metadata": {},
   "outputs": [
    {
     "data": {
      "text/plain": [
       "['Queso crema',\n",
       " 'Queso feta',\n",
       " 'Queso mozzarella',\n",
       " 'Queso parmesano',\n",
       " 'Quesos',\n",
       " 'Quinoa',\n",
       " 'Remolacha',\n",
       " 'Ricota',\n",
       " 'Rucula',\n",
       " 'Sabores',\n",
       " 'Sabores variados',\n",
       " 'Sal',\n",
       " 'Salame',\n",
       " 'Salmon',\n",
       " 'Salsa',\n",
       " 'Salsa bechamel',\n",
       " 'Salsa blanca',\n",
       " 'Salsa de soja',\n",
       " 'Salsa de tomate',\n",
       " 'Salsa golf',\n",
       " 'Semola',\n",
       " 'Soja texturizada',\n",
       " 'Ternera',\n",
       " 'Tinta de calamar',\n",
       " 'Tofu',\n",
       " 'Tomate',\n",
       " 'Vainillas',\n",
       " 'Variedad de quesos',\n",
       " 'Verduras',\n",
       " 'Verduras variadas']"
      ]
     },
     "execution_count": 199,
     "metadata": {},
     "output_type": "execute_result"
    }
   ],
   "source": [
    "lista_columnas[120:150]"
   ]
  },
  {
   "cell_type": "code",
   "execution_count": 200,
   "metadata": {},
   "outputs": [
    {
     "data": {
      "text/plain": [
       "['Vino blanco', 'Vino tinto', 'Yogur', 'Zanahoria', 'Zapallitos', 'Zapallo']"
      ]
     },
     "execution_count": 200,
     "metadata": {},
     "output_type": "execute_result"
    }
   ],
   "source": [
    "lista_columnas[150::]"
   ]
  },
  {
   "cell_type": "markdown",
   "metadata": {},
   "source": [
    "## Remplazar algunos valores de la columna 'Ingredientes'"
   ]
  },
  {
   "cell_type": "code",
   "execution_count": 201,
   "metadata": {},
   "outputs": [
    {
     "data": {
      "text/html": [
       "<div>\n",
       "<style scoped>\n",
       "    .dataframe tbody tr th:only-of-type {\n",
       "        vertical-align: middle;\n",
       "    }\n",
       "\n",
       "    .dataframe tbody tr th {\n",
       "        vertical-align: top;\n",
       "    }\n",
       "\n",
       "    .dataframe thead th {\n",
       "        text-align: right;\n",
       "    }\n",
       "</style>\n",
       "<table border=\"1\" class=\"dataframe\">\n",
       "  <thead>\n",
       "    <tr style=\"text-align: right;\">\n",
       "      <th></th>\n",
       "      <th>Nombre</th>\n",
       "      <th>Ingredientes</th>\n",
       "      <th>Categoria</th>\n",
       "    </tr>\n",
       "  </thead>\n",
       "  <tbody>\n",
       "    <tr>\n",
       "      <th>0</th>\n",
       "      <td>Tostadas con mermelada</td>\n",
       "      <td>[Pan, Mermelada]</td>\n",
       "      <td>Desayuno</td>\n",
       "    </tr>\n",
       "    <tr>\n",
       "      <th>1</th>\n",
       "      <td>Facturas de hojaldre</td>\n",
       "      <td>[Harina, Manteca, Azucar]</td>\n",
       "      <td>Desayuno</td>\n",
       "    </tr>\n",
       "    <tr>\n",
       "      <th>2</th>\n",
       "      <td>Tortilla de papas</td>\n",
       "      <td>[Papas, Huevos, Cebolla]</td>\n",
       "      <td>Almuerzo</td>\n",
       "    </tr>\n",
       "    <tr>\n",
       "      <th>3</th>\n",
       "      <td>Milanesa napolitana</td>\n",
       "      <td>[Carne, Tomate, Queso]</td>\n",
       "      <td>Almuerzo</td>\n",
       "    </tr>\n",
       "    <tr>\n",
       "      <th>4</th>\n",
       "      <td>Empanadas de carne</td>\n",
       "      <td>[Carne picada, Cebolla, Masa]</td>\n",
       "      <td>Almuerzo</td>\n",
       "    </tr>\n",
       "  </tbody>\n",
       "</table>\n",
       "</div>"
      ],
      "text/plain": [
       "                   Nombre                   Ingredientes Categoria\n",
       "0  Tostadas con mermelada               [Pan, Mermelada]  Desayuno\n",
       "1    Facturas de hojaldre      [Harina, Manteca, Azucar]  Desayuno\n",
       "2       Tortilla de papas       [Papas, Huevos, Cebolla]  Almuerzo\n",
       "3     Milanesa napolitana         [Carne, Tomate, Queso]  Almuerzo\n",
       "4      Empanadas de carne  [Carne picada, Cebolla, Masa]  Almuerzo"
      ]
     },
     "execution_count": 201,
     "metadata": {},
     "output_type": "execute_result"
    }
   ],
   "source": [
    "#se crea una copia del dataset df2\n",
    "df_limpieza = df2.copy()\n",
    "df_limpieza.head()"
   ]
  },
  {
   "cell_type": "code",
   "execution_count": 202,
   "metadata": {},
   "outputs": [
    {
     "data": {
      "text/html": [
       "<div>\n",
       "<style scoped>\n",
       "    .dataframe tbody tr th:only-of-type {\n",
       "        vertical-align: middle;\n",
       "    }\n",
       "\n",
       "    .dataframe tbody tr th {\n",
       "        vertical-align: top;\n",
       "    }\n",
       "\n",
       "    .dataframe thead th {\n",
       "        text-align: right;\n",
       "    }\n",
       "</style>\n",
       "<table border=\"1\" class=\"dataframe\">\n",
       "  <thead>\n",
       "    <tr style=\"text-align: right;\">\n",
       "      <th></th>\n",
       "      <th>Nombre</th>\n",
       "      <th>Ingredientes</th>\n",
       "      <th>Categoria</th>\n",
       "    </tr>\n",
       "  </thead>\n",
       "  <tbody>\n",
       "    <tr>\n",
       "      <th>0</th>\n",
       "      <td>Tostadas con mermelada</td>\n",
       "      <td>Pan-Mermelada</td>\n",
       "      <td>Desayuno</td>\n",
       "    </tr>\n",
       "    <tr>\n",
       "      <th>1</th>\n",
       "      <td>Facturas de hojaldre</td>\n",
       "      <td>Harina-Manteca-Azucar</td>\n",
       "      <td>Desayuno</td>\n",
       "    </tr>\n",
       "    <tr>\n",
       "      <th>2</th>\n",
       "      <td>Tortilla de papas</td>\n",
       "      <td>Papas-Huevos-Cebolla</td>\n",
       "      <td>Almuerzo</td>\n",
       "    </tr>\n",
       "    <tr>\n",
       "      <th>3</th>\n",
       "      <td>Milanesa napolitana</td>\n",
       "      <td>Carne-Tomate-Queso</td>\n",
       "      <td>Almuerzo</td>\n",
       "    </tr>\n",
       "    <tr>\n",
       "      <th>4</th>\n",
       "      <td>Empanadas de carne</td>\n",
       "      <td>Carne picada-Cebolla-Masa</td>\n",
       "      <td>Almuerzo</td>\n",
       "    </tr>\n",
       "  </tbody>\n",
       "</table>\n",
       "</div>"
      ],
      "text/plain": [
       "                   Nombre               Ingredientes Categoria\n",
       "0  Tostadas con mermelada              Pan-Mermelada  Desayuno\n",
       "1    Facturas de hojaldre      Harina-Manteca-Azucar  Desayuno\n",
       "2       Tortilla de papas       Papas-Huevos-Cebolla  Almuerzo\n",
       "3     Milanesa napolitana         Carne-Tomate-Queso  Almuerzo\n",
       "4      Empanadas de carne  Carne picada-Cebolla-Masa  Almuerzo"
      ]
     },
     "execution_count": 202,
     "metadata": {},
     "output_type": "execute_result"
    }
   ],
   "source": [
    "#se cambian los valores de la columna 'Igredeintes9 para que esten en \n",
    "# minúscula y dejen de ser listas\n",
    "df_limpieza['Ingredientes']=df_limpieza['Ingredientes'].str.join('-')\n",
    "df_limpieza.head()"
   ]
  },
  {
   "cell_type": "code",
   "execution_count": 203,
   "metadata": {},
   "outputs": [
    {
     "name": "stdout",
     "output_type": "stream",
     "text": [
      "                  Nombre              Ingredientes Categoria\n",
      "163  Pollo al champignon  Pollo-Champignones-Crema  Almuerzo \n",
      "\n",
      "                         Nombre                   Ingredientes Categoria\n",
      "83             Torta de manzana  Manzanas-Harina-Huevos-Azucar    Postre\n",
      "93             Ensalada waldorf   Manzana-Apio-Nueces-Mayonesa  Almuerzo\n",
      "155  Torta invertida de manzana  Manzanas-Harina-Huevos-Azucar    Postre \n",
      "\n",
      "                            Nombre                       Ingredientes  \\\n",
      "87                    Flan de coco          Huevos-Leche-Coco rallado   \n",
      "143                  Torta de coco  Coco rallado-Harina-Huevos-Azucar   \n",
      "219        Flan de vainilla y coco          Huevos-Leche-Coco rallado   \n",
      "231  Flan de dulce de leche y coco   Huevos-Leche-Dulce de leche-Coco   \n",
      "\n",
      "    Categoria  \n",
      "87     Postre  \n",
      "143    Postre  \n",
      "219    Postre  \n",
      "231    Postre   \n",
      "\n",
      "                Nombre                  Ingredientes Categoria\n",
      "140  Tiramisu de limon  Limones-Mascarpone-Vainillas    Postre \n",
      "\n",
      "                         Nombre                    Ingredientes Categoria\n",
      "28                    Panettone  Harina-Frutas confitadas-Pasas    Postre\n",
      "96                    Pan dulce       Harina-Frutas secas-Pasas    Postre\n",
      "189  Empanadas de carne y pasas         Carne-Pasas de uva-Masa  Almuerzo \n",
      "\n",
      "                 Nombre             Ingredientes Categoria\n",
      "95  Pizza cuatro quesos  Masa-Variedad de quesos  Almuerzo \n",
      "\n",
      "              Nombre                Ingredientes Categoria\n",
      "38  Picada argentina  Embutidos-Quesos-Aceitunas  Almuerzo \n",
      "\n",
      "                      Nombre                Ingredientes Categoria\n",
      "17      Frittata de verduras    Huevos-Verduras variadas  Almuerzo\n",
      "121         Sopa de verduras     Verduras variadas-Caldo  Almuerzo\n",
      "130  Brochettes de vegetales  Verduras variadas-Especias  Almuerzo \n",
      "\n",
      "              Nombre                   Ingredientes Categoria\n",
      "12  Helado artesanal  Leche-Azucar-Sabores variados    Postre \n",
      "\n"
     ]
    }
   ],
   "source": [
    "#diccionario para remplazar ciertos valores por otros: {esto : por esto}\n",
    "dic_remplazar = {'Champignones':'Champiñones', 'Manzana':'Manzanas', 'Coco':'Coco rallado', \n",
    "                 'Limones':'Limon', 'Pasas':'Pasas de uva', 'Variedad de quesos':'Queso',\n",
    "                 'Quesos':'Queso', 'Verduras variadas':'Verduras', 'Sabores variados':'Sabores'}\n",
    "\n",
    "#se busca cada clave del diccionario en el dataframe para \n",
    "# ver las filas que contienen ese valor\n",
    "for k,v in dic_remplazar.items():\n",
    "    print(df_limpieza[df_limpieza['Ingredientes'].str.find(k)!= -1], '\\n')"
   ]
  },
  {
   "cell_type": "code",
   "execution_count": 204,
   "metadata": {},
   "outputs": [],
   "source": [
    "#se crea una función para cambiar los valores del diccionario\n",
    "def remplazar(esto, por_esto, df, columna):\n",
    "    df[columna] = df[columna].apply(lambda x : x.replace(esto, por_esto)\n",
    "                                    if (esto in x and f'{por_esto}-' not in x \n",
    "                                        and f'-{por_esto}' not in x) or (por_esto in esto) else x)\n",
    "    return df"
   ]
  },
  {
   "cell_type": "code",
   "execution_count": 205,
   "metadata": {},
   "outputs": [],
   "source": [
    "#por cada clave(esto) y valor(por_esto) se le aplica la función remplazar\n",
    "for k,v in dic_remplazar.items(): \n",
    "     df_limpieza = remplazar(k, v, df_limpieza, 'Ingredientes')"
   ]
  },
  {
   "cell_type": "code",
   "execution_count": 206,
   "metadata": {},
   "outputs": [
    {
     "name": "stdout",
     "output_type": "stream",
     "text": [
      "CHAMPIGNONES\n",
      "Empty DataFrame\n",
      "Columns: [Nombre, Ingredientes, Categoria]\n",
      "Index: [] \n",
      "\n",
      "MANZANA\n",
      "                         Nombre                   Ingredientes Categoria\n",
      "83             Torta de manzana  Manzanas-Harina-Huevos-Azucar    Postre\n",
      "93             Ensalada waldorf  Manzanas-Apio-Nueces-Mayonesa  Almuerzo\n",
      "155  Torta invertida de manzana  Manzanas-Harina-Huevos-Azucar    Postre \n",
      "\n",
      "COCO\n",
      "                            Nombre                              Ingredientes  \\\n",
      "87                    Flan de coco                 Huevos-Leche-Coco rallado   \n",
      "143                  Torta de coco         Coco rallado-Harina-Huevos-Azucar   \n",
      "219        Flan de vainilla y coco                 Huevos-Leche-Coco rallado   \n",
      "231  Flan de dulce de leche y coco  Huevos-Leche-Dulce de leche-Coco rallado   \n",
      "\n",
      "    Categoria  \n",
      "87     Postre  \n",
      "143    Postre  \n",
      "219    Postre  \n",
      "231    Postre   \n",
      "\n",
      "LIMONES\n",
      "Empty DataFrame\n",
      "Columns: [Nombre, Ingredientes, Categoria]\n",
      "Index: [] \n",
      "\n",
      "PASAS\n",
      "                         Nombre                           Ingredientes  \\\n",
      "28                    Panettone  Harina-Frutas confitadas-Pasas de uva   \n",
      "96                    Pan dulce       Harina-Frutas secas-Pasas de uva   \n",
      "189  Empanadas de carne y pasas                Carne-Pasas de uva-Masa   \n",
      "\n",
      "    Categoria  \n",
      "28     Postre  \n",
      "96     Postre  \n",
      "189  Almuerzo   \n",
      "\n",
      "VARIEDAD DE QUESOS\n",
      "Empty DataFrame\n",
      "Columns: [Nombre, Ingredientes, Categoria]\n",
      "Index: [] \n",
      "\n",
      "QUESOS\n",
      "Empty DataFrame\n",
      "Columns: [Nombre, Ingredientes, Categoria]\n",
      "Index: [] \n",
      "\n",
      "VERDURAS VARIADAS\n",
      "Empty DataFrame\n",
      "Columns: [Nombre, Ingredientes, Categoria]\n",
      "Index: [] \n",
      "\n",
      "SABORES VARIADOS\n",
      "Empty DataFrame\n",
      "Columns: [Nombre, Ingredientes, Categoria]\n",
      "Index: [] \n",
      "\n"
     ]
    }
   ],
   "source": [
    "#se busca cada clave del diccionario en el dataframe nuevamente para \n",
    "# verificar que los cambios se hicieron correctamente\n",
    "for k,v in dic_remplazar.items():\n",
    "    print(k.upper())\n",
    "    print(df_limpieza[df_limpieza['Ingredientes'].str.find(k)!= -1], '\\n')"
   ]
  },
  {
   "cell_type": "markdown",
   "metadata": {},
   "source": [
    "## Guardar el dataframe limpio en un archivo csv"
   ]
  },
  {
   "cell_type": "code",
   "execution_count": 207,
   "metadata": {},
   "outputs": [
    {
     "data": {
      "text/html": [
       "<div>\n",
       "<style scoped>\n",
       "    .dataframe tbody tr th:only-of-type {\n",
       "        vertical-align: middle;\n",
       "    }\n",
       "\n",
       "    .dataframe tbody tr th {\n",
       "        vertical-align: top;\n",
       "    }\n",
       "\n",
       "    .dataframe thead th {\n",
       "        text-align: right;\n",
       "    }\n",
       "</style>\n",
       "<table border=\"1\" class=\"dataframe\">\n",
       "  <thead>\n",
       "    <tr style=\"text-align: right;\">\n",
       "      <th></th>\n",
       "      <th>Nombre</th>\n",
       "      <th>Ingredientes</th>\n",
       "      <th>Categoria</th>\n",
       "    </tr>\n",
       "  </thead>\n",
       "  <tbody>\n",
       "    <tr>\n",
       "      <th>0</th>\n",
       "      <td>Tostadas con mermelada</td>\n",
       "      <td>Pan-Mermelada</td>\n",
       "      <td>Desayuno</td>\n",
       "    </tr>\n",
       "    <tr>\n",
       "      <th>1</th>\n",
       "      <td>Facturas de hojaldre</td>\n",
       "      <td>Harina-Manteca-Azucar</td>\n",
       "      <td>Desayuno</td>\n",
       "    </tr>\n",
       "    <tr>\n",
       "      <th>2</th>\n",
       "      <td>Tortilla de papas</td>\n",
       "      <td>Papas-Huevos-Cebolla</td>\n",
       "      <td>Almuerzo</td>\n",
       "    </tr>\n",
       "    <tr>\n",
       "      <th>3</th>\n",
       "      <td>Milanesa napolitana</td>\n",
       "      <td>Carne-Tomate-Queso</td>\n",
       "      <td>Almuerzo</td>\n",
       "    </tr>\n",
       "    <tr>\n",
       "      <th>4</th>\n",
       "      <td>Empanadas de carne</td>\n",
       "      <td>Carne picada-Cebolla-Masa</td>\n",
       "      <td>Almuerzo</td>\n",
       "    </tr>\n",
       "  </tbody>\n",
       "</table>\n",
       "</div>"
      ],
      "text/plain": [
       "                   Nombre               Ingredientes Categoria\n",
       "0  Tostadas con mermelada              Pan-Mermelada  Desayuno\n",
       "1    Facturas de hojaldre      Harina-Manteca-Azucar  Desayuno\n",
       "2       Tortilla de papas       Papas-Huevos-Cebolla  Almuerzo\n",
       "3     Milanesa napolitana         Carne-Tomate-Queso  Almuerzo\n",
       "4      Empanadas de carne  Carne picada-Cebolla-Masa  Almuerzo"
      ]
     },
     "execution_count": 207,
     "metadata": {},
     "output_type": "execute_result"
    }
   ],
   "source": [
    "df_limpieza.head()"
   ]
  },
  {
   "cell_type": "code",
   "execution_count": 208,
   "metadata": {},
   "outputs": [],
   "source": [
    "#guardar csv limpio\n",
    "df_limpieza.to_csv('recetas_limpio.csv', index=False)"
   ]
  }
 ],
 "metadata": {
  "kernelspec": {
   "display_name": "deep_learning",
   "language": "python",
   "name": "python3"
  },
  "language_info": {
   "codemirror_mode": {
    "name": "ipython",
    "version": 3
   },
   "file_extension": ".py",
   "mimetype": "text/x-python",
   "name": "python",
   "nbconvert_exporter": "python",
   "pygments_lexer": "ipython3",
   "version": "3.9.19"
  }
 },
 "nbformat": 4,
 "nbformat_minor": 2
}
