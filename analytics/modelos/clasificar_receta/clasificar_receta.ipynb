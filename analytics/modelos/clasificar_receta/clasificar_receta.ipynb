{
 "cells": [
  {
   "cell_type": "markdown",
   "metadata": {},
   "source": [
    "# **Crear modelo de clasificación de recetas (Desayuno, Almuerzo o Postre)**"
   ]
  },
  {
   "cell_type": "code",
   "execution_count": 234,
   "metadata": {},
   "outputs": [],
   "source": [
    "#importar librerías\n",
    "\n",
    "#librerías para el procesamiento y el análisis de los datos\n",
    "import pandas as pd\n",
    "import numpy as np\n",
    "import matplotlib.pyplot as plt\n",
    "import seaborn as sns\n",
    "\n",
    "#paquetes para el procesamiento de datos\n",
    "from imblearn.over_sampling import SMOTE\n",
    "from sklearn.preprocessing import StandardScaler\n",
    "\n",
    "#paquetes para entrenar modelos de clasificación\n",
    "from sklearn.model_selection import train_test_split\n",
    "from sklearn.neighbors import KNeighborsClassifier\n",
    "from sklearn.tree import DecisionTreeClassifier\n",
    "from sklearn.ensemble import RandomForestClassifier\n",
    "\n",
    "#paquetes para buscar el mejor modelo\n",
    "from sklearn.model_selection import GridSearchCV\n",
    "\n",
    "#paquetes para evaluar los modelos\n",
    "from sklearn.metrics import classification_report\n",
    "from sklearn.metrics import confusion_matrix, ConfusionMatrixDisplay\n",
    "from sklearn.model_selection import cross_val_score\n",
    "\n",
    "#cargar el mlb_ml que se usó para pasar los ingredientes a columnas \n",
    "import joblib\n",
    "mlb = joblib.load(\"../../limpieza/mlb_ml.pkl\")\n"
   ]
  },
  {
   "cell_type": "markdown",
   "metadata": {},
   "source": [
    "## **Extraer datos**"
   ]
  },
  {
   "cell_type": "code",
   "execution_count": 235,
   "metadata": {},
   "outputs": [
    {
     "data": {
      "text/html": [
       "<div>\n",
       "<style scoped>\n",
       "    .dataframe tbody tr th:only-of-type {\n",
       "        vertical-align: middle;\n",
       "    }\n",
       "\n",
       "    .dataframe tbody tr th {\n",
       "        vertical-align: top;\n",
       "    }\n",
       "\n",
       "    .dataframe thead th {\n",
       "        text-align: right;\n",
       "    }\n",
       "</style>\n",
       "<table border=\"1\" class=\"dataframe\">\n",
       "  <thead>\n",
       "    <tr style=\"text-align: right;\">\n",
       "      <th></th>\n",
       "      <th>Aceite</th>\n",
       "      <th>Aceite de oliva</th>\n",
       "      <th>Aceitunas</th>\n",
       "      <th>Aderezo</th>\n",
       "      <th>Agua</th>\n",
       "      <th>Ajo</th>\n",
       "      <th>Albahaca</th>\n",
       "      <th>Albondigas</th>\n",
       "      <th>Algas</th>\n",
       "      <th>Almendras</th>\n",
       "      <th>...</th>\n",
       "      <th>Vainillas</th>\n",
       "      <th>Verduras</th>\n",
       "      <th>Vino blanco</th>\n",
       "      <th>Vino tinto</th>\n",
       "      <th>Yogur</th>\n",
       "      <th>Zanahoria</th>\n",
       "      <th>Zapallitos</th>\n",
       "      <th>Zapallo</th>\n",
       "      <th>Nombre</th>\n",
       "      <th>Categoria</th>\n",
       "    </tr>\n",
       "  </thead>\n",
       "  <tbody>\n",
       "    <tr>\n",
       "      <th>0</th>\n",
       "      <td>0</td>\n",
       "      <td>0</td>\n",
       "      <td>0</td>\n",
       "      <td>0</td>\n",
       "      <td>0</td>\n",
       "      <td>0</td>\n",
       "      <td>0</td>\n",
       "      <td>0</td>\n",
       "      <td>0</td>\n",
       "      <td>0</td>\n",
       "      <td>...</td>\n",
       "      <td>0</td>\n",
       "      <td>0</td>\n",
       "      <td>0</td>\n",
       "      <td>0</td>\n",
       "      <td>0</td>\n",
       "      <td>0</td>\n",
       "      <td>0</td>\n",
       "      <td>0</td>\n",
       "      <td>Tostadas con mermelada</td>\n",
       "      <td>Desayuno</td>\n",
       "    </tr>\n",
       "    <tr>\n",
       "      <th>1</th>\n",
       "      <td>0</td>\n",
       "      <td>0</td>\n",
       "      <td>0</td>\n",
       "      <td>0</td>\n",
       "      <td>0</td>\n",
       "      <td>0</td>\n",
       "      <td>0</td>\n",
       "      <td>0</td>\n",
       "      <td>0</td>\n",
       "      <td>0</td>\n",
       "      <td>...</td>\n",
       "      <td>0</td>\n",
       "      <td>0</td>\n",
       "      <td>0</td>\n",
       "      <td>0</td>\n",
       "      <td>0</td>\n",
       "      <td>0</td>\n",
       "      <td>0</td>\n",
       "      <td>0</td>\n",
       "      <td>Facturas de hojaldre</td>\n",
       "      <td>Desayuno</td>\n",
       "    </tr>\n",
       "    <tr>\n",
       "      <th>2</th>\n",
       "      <td>0</td>\n",
       "      <td>0</td>\n",
       "      <td>0</td>\n",
       "      <td>0</td>\n",
       "      <td>0</td>\n",
       "      <td>0</td>\n",
       "      <td>0</td>\n",
       "      <td>0</td>\n",
       "      <td>0</td>\n",
       "      <td>0</td>\n",
       "      <td>...</td>\n",
       "      <td>0</td>\n",
       "      <td>0</td>\n",
       "      <td>0</td>\n",
       "      <td>0</td>\n",
       "      <td>0</td>\n",
       "      <td>0</td>\n",
       "      <td>0</td>\n",
       "      <td>0</td>\n",
       "      <td>Tortilla de papas</td>\n",
       "      <td>Almuerzo</td>\n",
       "    </tr>\n",
       "    <tr>\n",
       "      <th>3</th>\n",
       "      <td>0</td>\n",
       "      <td>0</td>\n",
       "      <td>0</td>\n",
       "      <td>0</td>\n",
       "      <td>0</td>\n",
       "      <td>0</td>\n",
       "      <td>0</td>\n",
       "      <td>0</td>\n",
       "      <td>0</td>\n",
       "      <td>0</td>\n",
       "      <td>...</td>\n",
       "      <td>0</td>\n",
       "      <td>0</td>\n",
       "      <td>0</td>\n",
       "      <td>0</td>\n",
       "      <td>0</td>\n",
       "      <td>0</td>\n",
       "      <td>0</td>\n",
       "      <td>0</td>\n",
       "      <td>Milanesa napolitana</td>\n",
       "      <td>Almuerzo</td>\n",
       "    </tr>\n",
       "    <tr>\n",
       "      <th>4</th>\n",
       "      <td>0</td>\n",
       "      <td>0</td>\n",
       "      <td>0</td>\n",
       "      <td>0</td>\n",
       "      <td>0</td>\n",
       "      <td>0</td>\n",
       "      <td>0</td>\n",
       "      <td>0</td>\n",
       "      <td>0</td>\n",
       "      <td>0</td>\n",
       "      <td>...</td>\n",
       "      <td>0</td>\n",
       "      <td>0</td>\n",
       "      <td>0</td>\n",
       "      <td>0</td>\n",
       "      <td>0</td>\n",
       "      <td>0</td>\n",
       "      <td>0</td>\n",
       "      <td>0</td>\n",
       "      <td>Empanadas de carne</td>\n",
       "      <td>Almuerzo</td>\n",
       "    </tr>\n",
       "  </tbody>\n",
       "</table>\n",
       "<p>5 rows × 131 columns</p>\n",
       "</div>"
      ],
      "text/plain": [
       "   Aceite  Aceite de oliva  Aceitunas  Aderezo  Agua  Ajo  Albahaca  \\\n",
       "0       0                0          0        0     0    0         0   \n",
       "1       0                0          0        0     0    0         0   \n",
       "2       0                0          0        0     0    0         0   \n",
       "3       0                0          0        0     0    0         0   \n",
       "4       0                0          0        0     0    0         0   \n",
       "\n",
       "   Albondigas  Algas  Almendras  ...  Vainillas  Verduras  Vino blanco  \\\n",
       "0           0      0          0  ...          0         0            0   \n",
       "1           0      0          0  ...          0         0            0   \n",
       "2           0      0          0  ...          0         0            0   \n",
       "3           0      0          0  ...          0         0            0   \n",
       "4           0      0          0  ...          0         0            0   \n",
       "\n",
       "   Vino tinto  Yogur  Zanahoria  Zapallitos  Zapallo                  Nombre  \\\n",
       "0           0      0          0           0        0  Tostadas con mermelada   \n",
       "1           0      0          0           0        0    Facturas de hojaldre   \n",
       "2           0      0          0           0        0       Tortilla de papas   \n",
       "3           0      0          0           0        0     Milanesa napolitana   \n",
       "4           0      0          0           0        0      Empanadas de carne   \n",
       "\n",
       "   Categoria  \n",
       "0   Desayuno  \n",
       "1   Desayuno  \n",
       "2   Almuerzo  \n",
       "3   Almuerzo  \n",
       "4   Almuerzo  \n",
       "\n",
       "[5 rows x 131 columns]"
      ]
     },
     "execution_count": 235,
     "metadata": {},
     "output_type": "execute_result"
    }
   ],
   "source": [
    "df = pd.read_csv('../../limpieza/recetas_ML.csv')\n",
    "df.head()"
   ]
  },
  {
   "cell_type": "markdown",
   "metadata": {},
   "source": [
    "## **Explorar los datos**"
   ]
  },
  {
   "cell_type": "code",
   "execution_count": 236,
   "metadata": {},
   "outputs": [
    {
     "data": {
      "text/plain": [
       "(232, 131)"
      ]
     },
     "execution_count": 236,
     "metadata": {},
     "output_type": "execute_result"
    }
   ],
   "source": [
    "#tamaño de dataset\n",
    "df.shape"
   ]
  },
  {
   "cell_type": "code",
   "execution_count": 237,
   "metadata": {},
   "outputs": [
    {
     "data": {
      "text/plain": [
       "Categoria\n",
       "Almuerzo    165\n",
       "Postre       51\n",
       "Desayuno     16\n",
       "Name: count, dtype: int64"
      ]
     },
     "execution_count": 237,
     "metadata": {},
     "output_type": "execute_result"
    }
   ],
   "source": [
    "#ver la cantidad de cada valor posible de la variable target('Categoria')\n",
    "df['Categoria'].value_counts()"
   ]
  },
  {
   "cell_type": "code",
   "execution_count": 238,
   "metadata": {},
   "outputs": [
    {
     "data": {
      "image/png": "[encoded data removed]",
      "text/plain": [
       "<Figure size 900x500 with 1 Axes>"
      ]
     },
     "metadata": {},
     "output_type": "display_data"
    }
   ],
   "source": [
    "#graficar la cantidad de veces que se repitió cada valor en la variable target(Categoria)\n",
    "fig = plt.figure(figsize=(9,5))\n",
    "ax = fig.add_subplot()\n",
    "\n",
    "sns.countplot(data=df, x='Categoria', hue='Categoria')\n",
    "plt.title('Distribución de Categoria')\n",
    "plt.show()"
   ]
  },
  {
   "cell_type": "markdown",
   "metadata": {},
   "source": [
    "## **Procesar los datos**"
   ]
  },
  {
   "cell_type": "markdown",
   "metadata": {},
   "source": [
    "### Balancear los datos\n",
    "Para tener buenos resultados en el entrenamiento del modelo es necesario balancear los datos para que no haya un sobreajuste y no haga predicciones erróneas. Para ello se va a hacer un sobreajuste con el método SMOTE de la librería imblearn."
   ]
  },
  {
   "cell_type": "code",
   "execution_count": 239,
   "metadata": {},
   "outputs": [],
   "source": [
    "#copia del dataset original\n",
    "df2 = df.copy()"
   ]
  },
  {
   "cell_type": "code",
   "execution_count": 240,
   "metadata": {},
   "outputs": [],
   "source": [
    "#crear las variables x(features) e y(target)\n",
    "x = df2.drop(['Nombre','Categoria'], axis= 1)\n",
    "y = df2['Categoria'].values"
   ]
  },
  {
   "cell_type": "code",
   "execution_count": 241,
   "metadata": {},
   "outputs": [],
   "source": [
    "#distribución que quiero\n",
    "cantidad = {'Desayuno':150, 'Almuerzo':165, 'Postre':150} \n",
    "\n",
    "#balancear los datos con el método SMOTE de imblearn pasandole las variables x e y\n",
    "x_balanced, y_balanced = SMOTE(sampling_strategy= cantidad,random_state=42).fit_resample(x,y)"
   ]
  },
  {
   "cell_type": "code",
   "execution_count": 242,
   "metadata": {},
   "outputs": [
    {
     "data": {
      "image/png": "[encoded data removed]",
      "text/plain": [
       "<Figure size 900x500 with 1 Axes>"
      ]
     },
     "metadata": {},
     "output_type": "display_data"
    }
   ],
   "source": [
    "#gráficar la variable 'categoria' ya balanceada\n",
    "fig =plt.figure(figsize=(9,5))\n",
    "ax= fig.add_subplot()\n",
    "\n",
    "sns.countplot(x=y_balanced, hue=y_balanced)\n",
    "plt.title('Distribución de Categoria (balanceado)')\n",
    "plt.show()"
   ]
  },
  {
   "cell_type": "markdown",
   "metadata": {},
   "source": [
    "### Escalar los datos\n",
    "Ya balanceado el dataset, se procede a escalar los features con StandarScaler"
   ]
  },
  {
   "cell_type": "code",
   "execution_count": 243,
   "metadata": {},
   "outputs": [
    {
     "data": {
      "text/html": [
       "<div>\n",
       "<style scoped>\n",
       "    .dataframe tbody tr th:only-of-type {\n",
       "        vertical-align: middle;\n",
       "    }\n",
       "\n",
       "    .dataframe tbody tr th {\n",
       "        vertical-align: top;\n",
       "    }\n",
       "\n",
       "    .dataframe thead th {\n",
       "        text-align: right;\n",
       "    }\n",
       "</style>\n",
       "<table border=\"1\" class=\"dataframe\">\n",
       "  <thead>\n",
       "    <tr style=\"text-align: right;\">\n",
       "      <th></th>\n",
       "      <th>Aceite</th>\n",
       "      <th>Aceite de oliva</th>\n",
       "      <th>Aceitunas</th>\n",
       "      <th>Aderezo</th>\n",
       "      <th>Agua</th>\n",
       "      <th>Ajo</th>\n",
       "      <th>Albahaca</th>\n",
       "      <th>Albondigas</th>\n",
       "      <th>Algas</th>\n",
       "      <th>Almendras</th>\n",
       "      <th>...</th>\n",
       "      <th>Tofu</th>\n",
       "      <th>Tomate</th>\n",
       "      <th>Vainillas</th>\n",
       "      <th>Verduras</th>\n",
       "      <th>Vino blanco</th>\n",
       "      <th>Vino tinto</th>\n",
       "      <th>Yogur</th>\n",
       "      <th>Zanahoria</th>\n",
       "      <th>Zapallitos</th>\n",
       "      <th>Zapallo</th>\n",
       "    </tr>\n",
       "  </thead>\n",
       "  <tbody>\n",
       "    <tr>\n",
       "      <th>0</th>\n",
       "      <td>0</td>\n",
       "      <td>0</td>\n",
       "      <td>0</td>\n",
       "      <td>0</td>\n",
       "      <td>0</td>\n",
       "      <td>0</td>\n",
       "      <td>0</td>\n",
       "      <td>0</td>\n",
       "      <td>0</td>\n",
       "      <td>0</td>\n",
       "      <td>...</td>\n",
       "      <td>0</td>\n",
       "      <td>0</td>\n",
       "      <td>0</td>\n",
       "      <td>0</td>\n",
       "      <td>0</td>\n",
       "      <td>0</td>\n",
       "      <td>0</td>\n",
       "      <td>0</td>\n",
       "      <td>0</td>\n",
       "      <td>0</td>\n",
       "    </tr>\n",
       "    <tr>\n",
       "      <th>1</th>\n",
       "      <td>0</td>\n",
       "      <td>0</td>\n",
       "      <td>0</td>\n",
       "      <td>0</td>\n",
       "      <td>0</td>\n",
       "      <td>0</td>\n",
       "      <td>0</td>\n",
       "      <td>0</td>\n",
       "      <td>0</td>\n",
       "      <td>0</td>\n",
       "      <td>...</td>\n",
       "      <td>0</td>\n",
       "      <td>0</td>\n",
       "      <td>0</td>\n",
       "      <td>0</td>\n",
       "      <td>0</td>\n",
       "      <td>0</td>\n",
       "      <td>0</td>\n",
       "      <td>0</td>\n",
       "      <td>0</td>\n",
       "      <td>0</td>\n",
       "    </tr>\n",
       "    <tr>\n",
       "      <th>2</th>\n",
       "      <td>0</td>\n",
       "      <td>0</td>\n",
       "      <td>0</td>\n",
       "      <td>0</td>\n",
       "      <td>0</td>\n",
       "      <td>0</td>\n",
       "      <td>0</td>\n",
       "      <td>0</td>\n",
       "      <td>0</td>\n",
       "      <td>0</td>\n",
       "      <td>...</td>\n",
       "      <td>0</td>\n",
       "      <td>0</td>\n",
       "      <td>0</td>\n",
       "      <td>0</td>\n",
       "      <td>0</td>\n",
       "      <td>0</td>\n",
       "      <td>0</td>\n",
       "      <td>0</td>\n",
       "      <td>0</td>\n",
       "      <td>0</td>\n",
       "    </tr>\n",
       "    <tr>\n",
       "      <th>3</th>\n",
       "      <td>0</td>\n",
       "      <td>0</td>\n",
       "      <td>0</td>\n",
       "      <td>0</td>\n",
       "      <td>0</td>\n",
       "      <td>0</td>\n",
       "      <td>0</td>\n",
       "      <td>0</td>\n",
       "      <td>0</td>\n",
       "      <td>0</td>\n",
       "      <td>...</td>\n",
       "      <td>0</td>\n",
       "      <td>1</td>\n",
       "      <td>0</td>\n",
       "      <td>0</td>\n",
       "      <td>0</td>\n",
       "      <td>0</td>\n",
       "      <td>0</td>\n",
       "      <td>0</td>\n",
       "      <td>0</td>\n",
       "      <td>0</td>\n",
       "    </tr>\n",
       "    <tr>\n",
       "      <th>4</th>\n",
       "      <td>0</td>\n",
       "      <td>0</td>\n",
       "      <td>0</td>\n",
       "      <td>0</td>\n",
       "      <td>0</td>\n",
       "      <td>0</td>\n",
       "      <td>0</td>\n",
       "      <td>0</td>\n",
       "      <td>0</td>\n",
       "      <td>0</td>\n",
       "      <td>...</td>\n",
       "      <td>0</td>\n",
       "      <td>0</td>\n",
       "      <td>0</td>\n",
       "      <td>0</td>\n",
       "      <td>0</td>\n",
       "      <td>0</td>\n",
       "      <td>0</td>\n",
       "      <td>0</td>\n",
       "      <td>0</td>\n",
       "      <td>0</td>\n",
       "    </tr>\n",
       "  </tbody>\n",
       "</table>\n",
       "<p>5 rows × 129 columns</p>\n",
       "</div>"
      ],
      "text/plain": [
       "   Aceite  Aceite de oliva  Aceitunas  Aderezo  Agua  Ajo  Albahaca  \\\n",
       "0       0                0          0        0     0    0         0   \n",
       "1       0                0          0        0     0    0         0   \n",
       "2       0                0          0        0     0    0         0   \n",
       "3       0                0          0        0     0    0         0   \n",
       "4       0                0          0        0     0    0         0   \n",
       "\n",
       "   Albondigas  Algas  Almendras  ...  Tofu  Tomate  Vainillas  Verduras  \\\n",
       "0           0      0          0  ...     0       0          0         0   \n",
       "1           0      0          0  ...     0       0          0         0   \n",
       "2           0      0          0  ...     0       0          0         0   \n",
       "3           0      0          0  ...     0       1          0         0   \n",
       "4           0      0          0  ...     0       0          0         0   \n",
       "\n",
       "   Vino blanco  Vino tinto  Yogur  Zanahoria  Zapallitos  Zapallo  \n",
       "0            0           0      0          0           0        0  \n",
       "1            0           0      0          0           0        0  \n",
       "2            0           0      0          0           0        0  \n",
       "3            0           0      0          0           0        0  \n",
       "4            0           0      0          0           0        0  \n",
       "\n",
       "[5 rows x 129 columns]"
      ]
     },
     "execution_count": 243,
     "metadata": {},
     "output_type": "execute_result"
    }
   ],
   "source": [
    "x_balanced.head()"
   ]
  },
  {
   "cell_type": "code",
   "execution_count": 244,
   "metadata": {},
   "outputs": [
    {
     "data": {
      "text/plain": [
       "(465, 129)"
      ]
     },
     "execution_count": 244,
     "metadata": {},
     "output_type": "execute_result"
    }
   ],
   "source": [
    "x_balanced.shape"
   ]
  },
  {
   "cell_type": "code",
   "execution_count": 245,
   "metadata": {},
   "outputs": [
    {
     "data": {
      "text/plain": [
       "array([[-0.11433239, -0.04642383, -0.04642383, ..., -0.11433239,\n",
       "        -0.04642383, -0.04642383],\n",
       "       [-0.11433239, -0.04642383, -0.04642383, ..., -0.11433239,\n",
       "        -0.04642383, -0.04642383],\n",
       "       [-0.11433239, -0.04642383, -0.04642383, ..., -0.11433239,\n",
       "        -0.04642383, -0.04642383],\n",
       "       ...,\n",
       "       [-0.11433239, -0.04642383, -0.04642383, ..., -0.11433239,\n",
       "        -0.04642383, -0.04642383],\n",
       "       [-0.11433239, -0.04642383, -0.04642383, ..., -0.11433239,\n",
       "        -0.04642383, -0.04642383],\n",
       "       [-0.11433239, -0.04642383, -0.04642383, ..., -0.11433239,\n",
       "        -0.04642383, -0.04642383]])"
      ]
     },
     "execution_count": 245,
     "metadata": {},
     "output_type": "execute_result"
    }
   ],
   "source": [
    "#escalar los datos con StandarScaler\n",
    "scaler = StandardScaler()\n",
    "x_scaler = scaler.fit_transform(x_balanced)\n",
    "x_scaler"
   ]
  },
  {
   "cell_type": "markdown",
   "metadata": {},
   "source": [
    "## **Entrenar modelos**"
   ]
  },
  {
   "cell_type": "markdown",
   "metadata": {},
   "source": [
    "### Separar los datos en entrenamiento y testeo"
   ]
  },
  {
   "cell_type": "code",
   "execution_count": 246,
   "metadata": {},
   "outputs": [],
   "source": [
    "#separar los datos de testeo y entrenamineto\n",
    "x_train, x_test, y_train, y_test = train_test_split(x_scaler, y_balanced, test_size=0.3, random_state=42)"
   ]
  },
  {
   "cell_type": "markdown",
   "metadata": {},
   "source": [
    "### KNeighborsClassifier"
   ]
  },
  {
   "cell_type": "code",
   "execution_count": 247,
   "metadata": {},
   "outputs": [],
   "source": [
    "#entrenar modelo\n",
    "knn = KNeighborsClassifier(n_neighbors=3)\n",
    "knn.fit(x_train, y_train)\n",
    "\n",
    "#predecir los datos de testeo\n",
    "y_hat_knn = knn.predict(x_test)"
   ]
  },
  {
   "cell_type": "markdown",
   "metadata": {},
   "source": [
    "### DecisionTreeClassifier"
   ]
  },
  {
   "cell_type": "code",
   "execution_count": 248,
   "metadata": {},
   "outputs": [],
   "source": [
    "#entrenar modelo\n",
    "dtc = DecisionTreeClassifier(criterion='entropy', max_depth=5)\n",
    "dtc = dtc.fit(x_train, y_train)\n",
    "\n",
    "#predecir los datos de testeo\n",
    "y_hat_dtc = dtc.predict(x_test)"
   ]
  },
  {
   "cell_type": "markdown",
   "metadata": {},
   "source": [
    "### RandomForestClassifier"
   ]
  },
  {
   "cell_type": "code",
   "execution_count": 249,
   "metadata": {},
   "outputs": [],
   "source": [
    "#entrenar modelo\n",
    "rfc = RandomForestClassifier(n_estimators=5, criterion='entropy', max_depth=5, random_state=0)\n",
    "rfc = rfc.fit(x_train, y_train)\n",
    "\n",
    "#predecir los datos de testeo\n",
    "y_hat_rfc = rfc.predict(x_test)"
   ]
  },
  {
   "cell_type": "markdown",
   "metadata": {},
   "source": [
    "## **Validar modelos**"
   ]
  },
  {
   "cell_type": "code",
   "execution_count": 250,
   "metadata": {},
   "outputs": [],
   "source": [
    "#hacer función para validar los modelos usando el método classification_report\n",
    "def validation(name, y_test, y_hat, grid = 0):\n",
    "    #nombre del modelo que se va a validar\n",
    "    print(f\"\\n{name.upper()}:\")    \n",
    "    \n",
    "    #en caso que el parámetro grid sea diferente de 0 mostrar los mejores \n",
    "    # hiperparámetros del mejor modelo encontrado \n",
    "    if grid != 0:\n",
    "        print(f'\\nMejores parametros:\\n{grid.best_params_}\\n')\n",
    "   \n",
    "   #mostrar los resultados de la validación     \n",
    "    print(f\"Metricas:\\n{classification_report(y_test, y_hat)}\\n\")"
   ]
  },
  {
   "cell_type": "code",
   "execution_count": 251,
   "metadata": {},
   "outputs": [
    {
     "name": "stdout",
     "output_type": "stream",
     "text": [
      "\n",
      "KNEIGHBORSCLASSIFIER:\n",
      "Metricas:\n",
      "              precision    recall  f1-score   support\n",
      "\n",
      "    Almuerzo       0.90      0.68      0.77        53\n",
      "    Desayuno       0.67      0.95      0.78        40\n",
      "      Postre       1.00      0.91      0.96        47\n",
      "\n",
      "    accuracy                           0.84       140\n",
      "   macro avg       0.86      0.85      0.84       140\n",
      "weighted avg       0.87      0.84      0.84       140\n",
      "\n",
      "\n",
      "\n",
      "DECISIONTREECLASSIFIER:\n",
      "Metricas:\n",
      "              precision    recall  f1-score   support\n",
      "\n",
      "    Almuerzo       0.61      0.98      0.75        53\n",
      "    Desayuno       0.92      0.28      0.42        40\n",
      "      Postre       1.00      0.91      0.96        47\n",
      "\n",
      "    accuracy                           0.76       140\n",
      "   macro avg       0.84      0.72      0.71       140\n",
      "weighted avg       0.83      0.76      0.73       140\n",
      "\n",
      "\n",
      "\n",
      "RANDOMFORESTCLASSIFIER:\n",
      "Metricas:\n",
      "              precision    recall  f1-score   support\n",
      "\n",
      "    Almuerzo       0.97      0.72      0.83        53\n",
      "    Desayuno       0.58      0.88      0.70        40\n",
      "      Postre       0.90      0.79      0.84        47\n",
      "\n",
      "    accuracy                           0.79       140\n",
      "   macro avg       0.82      0.79      0.79       140\n",
      "weighted avg       0.84      0.79      0.80       140\n",
      "\n",
      "\n"
     ]
    }
   ],
   "source": [
    "validation('KNeighborsClassifier', y_test, y_hat_knn)\n",
    "validation('DecisionTreeClassifier', y_test, y_hat_dtc)\n",
    "validation('RandomForestClassifier', y_test, y_hat_rfc)"
   ]
  },
  {
   "cell_type": "code",
   "execution_count": 252,
   "metadata": {},
   "outputs": [
    {
     "data": {
      "image/png": "[encoded data removed]",
      "text/plain": [
       "<Figure size 640x480 with 2 Axes>"
      ]
     },
     "metadata": {},
     "output_type": "display_data"
    }
   ],
   "source": [
    "#graficar la matriz de confusión del mejor modelo\n",
    "cm = confusion_matrix(y_test, y_hat_knn)\n",
    "\n",
    "cmd = ConfusionMatrixDisplay(cm, display_labels=knn.classes_)\n",
    "cmd.plot(cmap=plt.cm.Blues)\n",
    "\n",
    "plt.title('Matriz de confusión')\n",
    "plt.show()"
   ]
  },
  {
   "cell_type": "markdown",
   "metadata": {},
   "source": [
    "## **Optimizar modelos**"
   ]
  },
  {
   "cell_type": "markdown",
   "metadata": {},
   "source": [
    "Para optimizar los modelos se usa el método GridSearchCV de scikit-learn"
   ]
  },
  {
   "cell_type": "markdown",
   "metadata": {},
   "source": [
    "### KNeighborsClassifier"
   ]
  },
  {
   "cell_type": "code",
   "execution_count": 253,
   "metadata": {},
   "outputs": [],
   "source": [
    "#hiperparámetros para probar diferentes variantes\n",
    "parameters_knn= {\"n_neighbors\":[2,4,5,7,8,10]}\n",
    "\n",
    "#buscar el mejor modelo teniendo en cuenta el accuracy\n",
    "knn = KNeighborsClassifier()\n",
    "grid_knn = GridSearchCV(knn, parameters_knn, scoring = 'accuracy',cv=25)\n",
    "\n",
    "#entrenar el modelo\n",
    "grid_knn.fit(x_train, y_train)\n",
    "\n",
    "#predecir los datos de testeo\n",
    "y_hat_grid_knn = grid_knn.predict(x_test)"
   ]
  },
  {
   "cell_type": "markdown",
   "metadata": {},
   "source": [
    "### DecisionTreeClassifier"
   ]
  },
  {
   "cell_type": "code",
   "execution_count": 254,
   "metadata": {},
   "outputs": [],
   "source": [
    "#hiperparámetros para probar diferentes variantes\n",
    "parameters_dtc = {\"criterion\":[\"gini\", \"entropy\"],\n",
    "                  \"max_depth\": [4,5,8,10,12,15]}\n",
    "\n",
    "#buscar el mejor modelo teniendo en cuenta el accuracy\n",
    "dtc = DecisionTreeClassifier()\n",
    "grid_dtc= GridSearchCV(dtc, parameters_dtc, scoring='accuracy',cv=25)\n",
    "\n",
    "#entrenar el modelo\n",
    "grid_dtc.fit(x_train, y_train)\n",
    "\n",
    "#predecir los datos de testeo\n",
    "y_hat_grid_dtc = grid_dtc.predict(x_test)"
   ]
  },
  {
   "cell_type": "markdown",
   "metadata": {},
   "source": [
    "### RandomForestClassifier"
   ]
  },
  {
   "cell_type": "code",
   "execution_count": 255,
   "metadata": {},
   "outputs": [],
   "source": [
    "#hiperparámetros para probar diferentes variantes\n",
    "parameters_rfc = {\"criterion\":[\"gini\", \"entropy\"],\n",
    "                  \"n_estimators\": [4,5,8,10,12,15],\n",
    "                  \"max_depth\": [4,5,8,10,12,15,20]}\n",
    "\n",
    "#buscar el mejor modelo teniendo en cuenta el accuracy\n",
    "rfc = RandomForestClassifier()\n",
    "grid_rfc= GridSearchCV(rfc, parameters_rfc, scoring='accuracy',cv=25)\n",
    "\n",
    "#entrenar el modelo\n",
    "grid_rfc.fit(x_train, y_train)\n",
    "\n",
    "#predecir los datos de testeo\n",
    "y_hat_grid_rfc = grid_rfc.predict(x_test)"
   ]
  },
  {
   "cell_type": "markdown",
   "metadata": {},
   "source": [
    "## **Validar modelos optimizados**"
   ]
  },
  {
   "cell_type": "code",
   "execution_count": 256,
   "metadata": {},
   "outputs": [
    {
     "name": "stdout",
     "output_type": "stream",
     "text": [
      "\n",
      "KNEIGHBORSCLASSIFIER_GRID:\n",
      "\n",
      "Mejores parametros:\n",
      "{'n_neighbors': 2}\n",
      "\n",
      "Metricas:\n",
      "              precision    recall  f1-score   support\n",
      "\n",
      "    Almuerzo       0.92      0.83      0.87        53\n",
      "    Desayuno       0.78      0.95      0.85        40\n",
      "      Postre       1.00      0.91      0.96        47\n",
      "\n",
      "    accuracy                           0.89       140\n",
      "   macro avg       0.90      0.90      0.89       140\n",
      "weighted avg       0.90      0.89      0.89       140\n",
      "\n",
      "\n",
      "\n",
      "DECISIONTREECLASSIFIER_GRID:\n",
      "\n",
      "Mejores parametros:\n",
      "{'criterion': 'entropy', 'max_depth': 15}\n",
      "\n",
      "Metricas:\n",
      "              precision    recall  f1-score   support\n",
      "\n",
      "    Almuerzo       0.96      0.81      0.88        53\n",
      "    Desayuno       0.76      0.93      0.83        40\n",
      "      Postre       0.98      0.96      0.97        47\n",
      "\n",
      "    accuracy                           0.89       140\n",
      "   macro avg       0.90      0.90      0.89       140\n",
      "weighted avg       0.91      0.89      0.89       140\n",
      "\n",
      "\n",
      "\n",
      "RANDOMFORESTCLASSIFIER_GRID:\n",
      "\n",
      "Mejores parametros:\n",
      "{'criterion': 'entropy', 'max_depth': 15, 'n_estimators': 15}\n",
      "\n",
      "Metricas:\n",
      "              precision    recall  f1-score   support\n",
      "\n",
      "    Almuerzo       0.98      0.87      0.92        53\n",
      "    Desayuno       0.81      0.97      0.89        40\n",
      "      Postre       1.00      0.96      0.98        47\n",
      "\n",
      "    accuracy                           0.93       140\n",
      "   macro avg       0.93      0.93      0.93       140\n",
      "weighted avg       0.94      0.93      0.93       140\n",
      "\n",
      "\n"
     ]
    }
   ],
   "source": [
    "validation('KNeighborsClassifier_grid', y_test, y_hat_grid_knn, grid=grid_knn)\n",
    "validation('DecisionTreeClassifier_grid', y_test, y_hat_grid_dtc, grid=grid_dtc)\n",
    "validation('RandomForestClassifier_grid', y_test, y_hat_grid_rfc, grid=grid_rfc)"
   ]
  },
  {
   "cell_type": "code",
   "execution_count": 257,
   "metadata": {},
   "outputs": [
    {
     "data": {
      "image/png": "[encoded data removed]",
      "text/plain": [
       "<Figure size 640x480 with 2 Axes>"
      ]
     },
     "metadata": {},
     "output_type": "display_data"
    }
   ],
   "source": [
    "#graficar la matriz de confusión del mejor modelo\n",
    "cm = confusion_matrix(y_test, y_hat_grid_rfc)\n",
    "\n",
    "cmd = ConfusionMatrixDisplay(cm, display_labels=grid_rfc.classes_)\n",
    "cmd.plot(cmap=plt.cm.Blues)\n",
    "\n",
    "plt.title('Matriz de confusión')\n",
    "plt.show()"
   ]
  },
  {
   "cell_type": "code",
   "execution_count": 258,
   "metadata": {},
   "outputs": [
    {
     "name": "stdout",
     "output_type": "stream",
     "text": [
      "Resultado de validación cruzada: 0.9290322580645161\n"
     ]
    }
   ],
   "source": [
    "#ver el resultado del promedio de la validación cruzada en el mejor modelo\n",
    "print('Resultado de validación cruzada:', cross_val_score(grid_rfc, x_scaler, y_balanced, cv=5).mean())"
   ]
  },
  {
   "cell_type": "markdown",
   "metadata": {},
   "source": [
    "## **Probar el mejor modelo**"
   ]
  },
  {
   "cell_type": "code",
   "execution_count": 259,
   "metadata": {},
   "outputs": [],
   "source": [
    "#crear función para probar el modelo\n",
    "def clasificar_receta(ingredientes_usuario, model, mlb, scaler):\n",
    "    ingredientes= ingredientes_usuario.split(',')\n",
    "    #pasar los ingredientes ingresados a one-hot-encoding con el transformador mlb\n",
    "    ingredientes_mlb = pd.DataFrame(mlb.transform([ingredientes]), columns=mlb.classes_)\n",
    "    #escalar los ingredientes\n",
    "    ingredientes_scaler = scaler.transform(ingredientes_mlb)\n",
    "    #predecir el tipo de receta\n",
    "    predict_model = model.predict(ingredientes_scaler)\n",
    "    #se imprime por pantalla\n",
    "    print(f\"Ingredientes: {ingredientes_usuario.replace(',','-')}. Clasificación: {predict_model[0]}\")"
   ]
  },
  {
   "cell_type": "code",
   "execution_count": 260,
   "metadata": {},
   "outputs": [
    {
     "name": "stdout",
     "output_type": "stream",
     "text": [
      "Ingredientes: Manzanas-Azucar. Clasificación: Postre\n"
     ]
    }
   ],
   "source": [
    "ingredientes_usuario = \"Manzanas,Azucar\"\n",
    "#obtener la clasificación del la receta\n",
    "clasificar_receta(\"Manzanas,Azucar\", grid_rfc, mlb, scaler)"
   ]
  },
  {
   "cell_type": "code",
   "execution_count": 261,
   "metadata": {},
   "outputs": [
    {
     "name": "stdout",
     "output_type": "stream",
     "text": [
      "Ingredientes: Harina-Manteca-Azucar. Clasificación: Desayuno\n"
     ]
    }
   ],
   "source": [
    "ingredientes_usuario = 'Harina,Manteca,Azucar'\n",
    "#obtener la clasificación del la receta\n",
    "clasificar_receta(ingredientes_usuario, grid_rfc, mlb, scaler)"
   ]
  },
  {
   "cell_type": "code",
   "execution_count": 262,
   "metadata": {},
   "outputs": [
    {
     "name": "stdout",
     "output_type": "stream",
     "text": [
      "Ingredientes: Tomate-Carne picada-Cebolla. Clasificación: Almuerzo\n"
     ]
    }
   ],
   "source": [
    "ingredientes_usuario = 'Tomate,Carne picada,Cebolla'\n",
    "#obtener la clasificación del la receta\n",
    "clasificar_receta(ingredientes_usuario, grid_rfc, mlb, scaler)"
   ]
  },
  {
   "cell_type": "markdown",
   "metadata": {},
   "source": [
    "## **Guardar el mejor modelo**"
   ]
  },
  {
   "cell_type": "code",
   "execution_count": 264,
   "metadata": {},
   "outputs": [
    {
     "data": {
      "text/plain": [
       "['scaler_clasificar.pkl']"
      ]
     },
     "execution_count": 264,
     "metadata": {},
     "output_type": "execute_result"
    }
   ],
   "source": [
    "#guardar el mejor modelo entrenado\n",
    "joblib.dump(grid_rfc, 'clasificar_receta.pkl')\n",
    "\n",
    "#guardar scalar ya entrenado para luego usarlo\n",
    "joblib.dump(scaler, 'scaler_clasificar.pkl')"
   ]
  }
 ],
 "metadata": {
  "kernelspec": {
   "display_name": "deep_learning",
   "language": "python",
   "name": "python3"
  },
  "language_info": {
   "codemirror_mode": {
    "name": "ipython",
    "version": 3
   },
   "file_extension": ".py",
   "mimetype": "text/x-python",
   "name": "python",
   "nbconvert_exporter": "python",
   "pygments_lexer": "ipython3",
   "version": "3.9.19"
  }
 },
 "nbformat": 4,
 "nbformat_minor": 2
}
